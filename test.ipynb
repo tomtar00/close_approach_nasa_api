{
 "cells": [
  {
   "cell_type": "code",
   "execution_count": 74,
   "metadata": {},
   "outputs": [
    {
     "name": "stdout",
     "output_type": "stream",
     "text": [
      "[0.00186396 0.00240757 0.00310921 0.00401452 0.00518205 0.00668685\n",
      " 0.00862484 0.01111822 0.014322   0.01843176 0.02369248 0.03040819\n",
      " 0.03895153 0.04977196 0.06339992 0.08044344 0.10157182 0.12748022\n",
      " 0.1588289  0.19615347 0.2397493  0.28954438 0.34498858 0.40499748\n",
      " 0.46798678 0.53201322 0.59500252 0.65501142 0.71045562 0.7602507\n",
      " 0.80384653 0.8411711  0.87251978 0.89842818 0.91955656 0.93660008\n",
      " 0.95022804 0.96104847 0.96959181 0.97630752 0.98156824 0.985678\n",
      " 0.98888178 0.99137516 0.99331315 0.99481795 0.99598548 0.99689079\n",
      " 0.99759243 0.99813604]\n"
     ]
    },
    {
     "data": {
      "image/png": "[encoded data removed]",
      "text/plain": [
       "<Figure size 432x288 with 1 Axes>"
      ]
     },
     "metadata": {
      "needs_background": "light"
     },
     "output_type": "display_data"
    },
    {
     "data": {
      "text/plain": [
       "[<matplotlib.lines.Line2D at 0x1d1fd5a6620>]"
      ]
     },
     "execution_count": 74,
     "metadata": {},
     "output_type": "execute_result"
    },
    {
     "data": {
      "image/png": "[encoded data removed]",
      "text/plain": [
       "<Figure size 432x288 with 1 Axes>"
      ]
     },
     "metadata": {
      "needs_background": "light"
     },
     "output_type": "display_data"
    }
   ],
   "source": [
    "import numpy as np\n",
    "import matplotlib.pyplot as plt\n",
    "\n",
    "deg2rad = np.pi / 180.0\n",
    "\n",
    "def sigmoid(x, c=1):\n",
    "  return 1 / (1 + np.exp(-c * x))\n",
    "\n",
    "res = 50\n",
    "_cos = np.linspace(0, 360, res)\n",
    "#_cos = 1 - (np.cos(.5 * _cos * deg2rad) * .5 + .5)\n",
    "_cos = sigmoid(_cos * deg2rad - np.pi, 2)\n",
    "\n",
    "print(_cos)\n",
    "plt.plot(_cos, np.zeros(res), 'o')\n",
    "plt.show()\n",
    "plt.plot(np.linspace(0, res, res), _cos, 'o')"
   ]
  },
  {
   "cell_type": "code",
   "execution_count": 89,
   "metadata": {},
   "outputs": [
    {
     "name": "stdout",
     "output_type": "stream",
     "text": [
      "2022-01-21 00:00:00.000\n",
      "2459600.5\n"
     ]
    }
   ],
   "source": [
    "from astropy.time import Time\n",
    "\n",
    "t = Time(2459600.5, format='jd')\n",
    "t.format ='iso'\n",
    "print(t.iso)\n",
    "\n",
    "t.format ='jd'\n",
    "print(t.jd)"
   ]
  }
 ],
 "metadata": {
  "interpreter": {
   "hash": "cbc7000f7a364fdbf1f7744f5266ba75ae0422851d544ca907eb8ebb529a7170"
  },
  "kernelspec": {
   "display_name": "Python 3.10.2 64-bit",
   "language": "python",
   "name": "python3"
  },
  "language_info": {
   "codemirror_mode": {
    "name": "ipython",
    "version": 3
   },
   "file_extension": ".py",
   "mimetype": "text/x-python",
   "name": "python",
   "nbconvert_exporter": "python",
   "pygments_lexer": "ipython3",
   "version": "3.10.2"
  },
  "orig_nbformat": 4
 },
 "nbformat": 4,
 "nbformat_minor": 2
}
